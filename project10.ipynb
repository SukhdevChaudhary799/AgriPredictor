{
 "cells": [
  {
   "cell_type": "code",
   "execution_count": 1,
   "id": "aab5168e",
   "metadata": {},
   "outputs": [],
   "source": [
    "import pandas as pd\n",
    "import numpy as np\n",
    "from matplotlib import pyplot as plt\n",
    "%matplotlib inline\n",
    "import matplotlib\n",
    "matplotlib.rcParams['figure.figsize']=(20,10)"
   ]
  },
  {
   "cell_type": "code",
   "execution_count": 2,
   "id": "deacb685",
   "metadata": {
    "scrolled": true
   },
   "outputs": [
    {
     "data": {
      "text/html": [
       "<div>\n",
       "<style scoped>\n",
       "    .dataframe tbody tr th:only-of-type {\n",
       "        vertical-align: middle;\n",
       "    }\n",
       "\n",
       "    .dataframe tbody tr th {\n",
       "        vertical-align: top;\n",
       "    }\n",
       "\n",
       "    .dataframe thead th {\n",
       "        text-align: right;\n",
       "    }\n",
       "</style>\n",
       "<table border=\"1\" class=\"dataframe\">\n",
       "  <thead>\n",
       "    <tr style=\"text-align: right;\">\n",
       "      <th></th>\n",
       "      <th>Nitrogen</th>\n",
       "      <th>Phosphorous</th>\n",
       "      <th>potassium</th>\n",
       "      <th>temperature</th>\n",
       "      <th>humidity</th>\n",
       "      <th>ph</th>\n",
       "      <th>rainfall</th>\n",
       "      <th>label</th>\n",
       "    </tr>\n",
       "  </thead>\n",
       "  <tbody>\n",
       "    <tr>\n",
       "      <th>0</th>\n",
       "      <td>90</td>\n",
       "      <td>42</td>\n",
       "      <td>43</td>\n",
       "      <td>20.879744</td>\n",
       "      <td>82.002744</td>\n",
       "      <td>6.502985</td>\n",
       "      <td>202.935536</td>\n",
       "      <td>rice</td>\n",
       "    </tr>\n",
       "    <tr>\n",
       "      <th>1</th>\n",
       "      <td>85</td>\n",
       "      <td>58</td>\n",
       "      <td>41</td>\n",
       "      <td>21.770462</td>\n",
       "      <td>80.319644</td>\n",
       "      <td>7.038096</td>\n",
       "      <td>226.655537</td>\n",
       "      <td>rice</td>\n",
       "    </tr>\n",
       "    <tr>\n",
       "      <th>2</th>\n",
       "      <td>60</td>\n",
       "      <td>55</td>\n",
       "      <td>44</td>\n",
       "      <td>23.004459</td>\n",
       "      <td>82.320763</td>\n",
       "      <td>7.840207</td>\n",
       "      <td>263.964248</td>\n",
       "      <td>rice</td>\n",
       "    </tr>\n",
       "    <tr>\n",
       "      <th>3</th>\n",
       "      <td>74</td>\n",
       "      <td>35</td>\n",
       "      <td>40</td>\n",
       "      <td>26.491096</td>\n",
       "      <td>80.158363</td>\n",
       "      <td>6.980401</td>\n",
       "      <td>242.864034</td>\n",
       "      <td>rice</td>\n",
       "    </tr>\n",
       "  </tbody>\n",
       "</table>\n",
       "</div>"
      ],
      "text/plain": [
       "   Nitrogen  Phosphorous  potassium  temperature   humidity        ph  \\\n",
       "0        90           42         43    20.879744  82.002744  6.502985   \n",
       "1        85           58         41    21.770462  80.319644  7.038096   \n",
       "2        60           55         44    23.004459  82.320763  7.840207   \n",
       "3        74           35         40    26.491096  80.158363  6.980401   \n",
       "\n",
       "     rainfall label  \n",
       "0  202.935536  rice  \n",
       "1  226.655537  rice  \n",
       "2  263.964248  rice  \n",
       "3  242.864034  rice  "
      ]
     },
     "execution_count": 2,
     "metadata": {},
     "output_type": "execute_result"
    }
   ],
   "source": [
    "df1=pd.read_csv(\"crop_recommendation.csv\")\n",
    "df1.head(4)"
   ]
  },
  {
   "cell_type": "code",
   "execution_count": 3,
   "id": "fcff3ca2",
   "metadata": {
    "scrolled": true
   },
   "outputs": [],
   "source": [
    "# rankings_pd.rename(columns = {'test':'TEST'}, inplace = True)\n",
    "df2=df1.rename(columns={'Nitrogen':'nitrogen','Phosphorous':'phosphorous'})"
   ]
  },
  {
   "cell_type": "code",
   "execution_count": 4,
   "id": "68162ab1",
   "metadata": {},
   "outputs": [
    {
     "data": {
      "text/html": [
       "<div>\n",
       "<style scoped>\n",
       "    .dataframe tbody tr th:only-of-type {\n",
       "        vertical-align: middle;\n",
       "    }\n",
       "\n",
       "    .dataframe tbody tr th {\n",
       "        vertical-align: top;\n",
       "    }\n",
       "\n",
       "    .dataframe thead th {\n",
       "        text-align: right;\n",
       "    }\n",
       "</style>\n",
       "<table border=\"1\" class=\"dataframe\">\n",
       "  <thead>\n",
       "    <tr style=\"text-align: right;\">\n",
       "      <th></th>\n",
       "      <th>nitrogen</th>\n",
       "      <th>phosphorous</th>\n",
       "      <th>potassium</th>\n",
       "      <th>temperature</th>\n",
       "      <th>humidity</th>\n",
       "      <th>ph</th>\n",
       "      <th>rainfall</th>\n",
       "      <th>label</th>\n",
       "    </tr>\n",
       "  </thead>\n",
       "  <tbody>\n",
       "    <tr>\n",
       "      <th>0</th>\n",
       "      <td>90</td>\n",
       "      <td>42</td>\n",
       "      <td>43</td>\n",
       "      <td>20.879744</td>\n",
       "      <td>82.002744</td>\n",
       "      <td>6.502985</td>\n",
       "      <td>202.935536</td>\n",
       "      <td>rice</td>\n",
       "    </tr>\n",
       "    <tr>\n",
       "      <th>1</th>\n",
       "      <td>85</td>\n",
       "      <td>58</td>\n",
       "      <td>41</td>\n",
       "      <td>21.770462</td>\n",
       "      <td>80.319644</td>\n",
       "      <td>7.038096</td>\n",
       "      <td>226.655537</td>\n",
       "      <td>rice</td>\n",
       "    </tr>\n",
       "  </tbody>\n",
       "</table>\n",
       "</div>"
      ],
      "text/plain": [
       "   nitrogen  phosphorous  potassium  temperature   humidity        ph  \\\n",
       "0        90           42         43    20.879744  82.002744  6.502985   \n",
       "1        85           58         41    21.770462  80.319644  7.038096   \n",
       "\n",
       "     rainfall label  \n",
       "0  202.935536  rice  \n",
       "1  226.655537  rice  "
      ]
     },
     "execution_count": 4,
     "metadata": {},
     "output_type": "execute_result"
    }
   ],
   "source": [
    "df2.head(2)"
   ]
  },
  {
   "cell_type": "code",
   "execution_count": 5,
   "id": "75dfefe3",
   "metadata": {},
   "outputs": [],
   "source": [
    "df2['temperature'] = df2['temperature'].apply(np.ceil) "
   ]
  },
  {
   "cell_type": "code",
   "execution_count": 6,
   "id": "4e74597a",
   "metadata": {},
   "outputs": [
    {
     "data": {
      "text/plain": [
       "26.0    218\n",
       "28.0    195\n",
       "24.0    192\n",
       "25.0    190\n",
       "27.0    178\n",
       "29.0    175\n",
       "30.0    171\n",
       "23.0    127\n",
       "20.0     90\n",
       "19.0     87\n",
       "22.0     83\n",
       "21.0     82\n",
       "32.0     63\n",
       "31.0     54\n",
       "18.0     47\n",
       "34.0     35\n",
       "33.0     33\n",
       "35.0     30\n",
       "36.0     22\n",
       "17.0     14\n",
       "16.0     12\n",
       "37.0     11\n",
       "12.0     11\n",
       "40.0      9\n",
       "43.0      9\n",
       "39.0      8\n",
       "11.0      8\n",
       "42.0      8\n",
       "14.0      7\n",
       "13.0      6\n",
       "41.0      6\n",
       "10.0      5\n",
       "38.0      5\n",
       "44.0      5\n",
       "15.0      3\n",
       "9.0       1\n",
       "Name: temperature, dtype: int64"
      ]
     },
     "execution_count": 6,
     "metadata": {},
     "output_type": "execute_result"
    }
   ],
   "source": [
    "df2['temperature'].value_counts()"
   ]
  },
  {
   "cell_type": "code",
   "execution_count": 7,
   "id": "61deb6e9",
   "metadata": {
    "scrolled": true
   },
   "outputs": [
    {
     "name": "stdout",
     "output_type": "stream",
     "text": [
      "[9.0, 10.0, 11.0, 12.0, 13.0, 14.0, 15.0, 16.0, 17.0, 18.0, 19.0, 20.0, 21.0, 22.0, 23.0, 24.0, 25.0, 26.0, 27.0, 28.0, 29.0, 30.0, 31.0, 32.0, 33.0, 34.0, 35.0, 36.0, 37.0, 38.0, 39.0, 40.0, 41.0, 42.0, 43.0, 44.0]\n"
     ]
    }
   ],
   "source": [
    "print(sorted(df2['temperature'].unique()))"
   ]
  },
  {
   "cell_type": "code",
   "execution_count": 8,
   "id": "7b569ab5",
   "metadata": {},
   "outputs": [],
   "source": [
    "df2['humidity'] = df2['humidity'].apply(np.ceil) "
   ]
  },
  {
   "cell_type": "code",
   "execution_count": 9,
   "id": "9e761f14",
   "metadata": {},
   "outputs": [
    {
     "name": "stdout",
     "output_type": "stream",
     "text": [
      "[15.0, 16.0, 17.0, 18.0, 19.0, 20.0, 21.0, 22.0, 23.0, 24.0, 25.0, 31.0, 32.0, 33.0, 34.0, 35.0, 36.0, 37.0, 38.0, 39.0, 40.0, 41.0, 42.0, 43.0, 44.0, 45.0, 46.0, 47.0, 48.0, 49.0, 50.0, 51.0, 52.0, 53.0, 54.0, 55.0, 56.0, 57.0, 58.0, 59.0, 60.0, 61.0, 62.0, 63.0, 64.0, 65.0, 66.0, 67.0, 68.0, 69.0, 70.0, 71.0, 72.0, 73.0, 74.0, 75.0, 76.0, 77.0, 78.0, 79.0, 80.0, 81.0, 82.0, 83.0, 84.0, 85.0, 86.0, 87.0, 88.0, 89.0, 90.0, 91.0, 92.0, 93.0, 94.0, 95.0, 96.0, 97.0, 98.0, 99.0, 100.0]\n"
     ]
    }
   ],
   "source": [
    "print(sorted(df2['humidity'].unique()))"
   ]
  },
  {
   "cell_type": "code",
   "execution_count": 10,
   "id": "08be6363",
   "metadata": {},
   "outputs": [],
   "source": [
    "df2['ph'] = df2['ph'].apply(np.ceil) "
   ]
  },
  {
   "cell_type": "code",
   "execution_count": 11,
   "id": "8a9cf14a",
   "metadata": {},
   "outputs": [
    {
     "data": {
      "text/plain": [
       "7.0     1159\n",
       "6.0      511\n",
       "8.0      412\n",
       "5.0       52\n",
       "9.0       45\n",
       "10.0      11\n",
       "4.0       10\n",
       "Name: ph, dtype: int64"
      ]
     },
     "execution_count": 11,
     "metadata": {},
     "output_type": "execute_result"
    }
   ],
   "source": [
    "df2['ph'].value_counts()"
   ]
  },
  {
   "cell_type": "code",
   "execution_count": 12,
   "id": "6949db41",
   "metadata": {},
   "outputs": [],
   "source": [
    "df2['rainfall'] = df2['rainfall'].apply(np.ceil)"
   ]
  },
  {
   "cell_type": "code",
   "execution_count": 13,
   "id": "2041f14e",
   "metadata": {},
   "outputs": [
    {
     "name": "stdout",
     "output_type": "stream",
     "text": [
      "[21.0, 22.0, 23.0, 24.0, 25.0, 26.0, 27.0, 28.0, 29.0, 30.0, 31.0, 32.0, 33.0, 34.0, 35.0, 36.0, 37.0, 38.0, 39.0, 40.0, 41.0, 42.0, 43.0, 44.0, 45.0, 46.0, 47.0, 48.0, 49.0, 50.0, 51.0, 52.0, 53.0, 54.0, 55.0, 56.0, 57.0, 58.0, 59.0, 60.0, 61.0, 62.0, 63.0, 64.0, 65.0, 66.0, 67.0, 68.0, 69.0, 70.0, 71.0, 72.0, 73.0, 74.0, 75.0, 76.0, 77.0, 78.0, 79.0, 80.0, 81.0, 82.0, 83.0, 84.0, 85.0, 86.0, 87.0, 88.0, 89.0, 90.0, 91.0, 92.0, 93.0, 94.0, 95.0, 96.0, 97.0, 98.0, 99.0, 100.0, 101.0, 102.0, 103.0, 104.0, 105.0, 106.0, 107.0, 108.0, 109.0, 110.0, 111.0, 112.0, 113.0, 114.0, 115.0, 116.0, 117.0, 118.0, 119.0, 120.0, 121.0, 122.0, 123.0, 124.0, 125.0, 126.0, 127.0, 128.0, 129.0, 130.0, 131.0, 132.0, 133.0, 134.0, 135.0, 136.0, 137.0, 138.0, 139.0, 140.0, 141.0, 142.0, 143.0, 144.0, 145.0, 146.0, 147.0, 148.0, 149.0, 150.0, 151.0, 152.0, 153.0, 154.0, 155.0, 156.0, 157.0, 158.0, 159.0, 160.0, 161.0, 162.0, 163.0, 164.0, 165.0, 166.0, 167.0, 168.0, 169.0, 170.0, 171.0, 172.0, 173.0, 174.0, 175.0, 176.0, 177.0, 178.0, 179.0, 180.0, 181.0, 182.0, 183.0, 184.0, 185.0, 186.0, 187.0, 188.0, 189.0, 190.0, 191.0, 192.0, 193.0, 194.0, 195.0, 196.0, 197.0, 198.0, 199.0, 200.0, 201.0, 202.0, 203.0, 204.0, 205.0, 206.0, 207.0, 208.0, 209.0, 210.0, 211.0, 212.0, 213.0, 214.0, 215.0, 216.0, 218.0, 219.0, 220.0, 221.0, 222.0, 223.0, 224.0, 225.0, 226.0, 227.0, 228.0, 231.0, 232.0, 233.0, 234.0, 235.0, 236.0, 239.0, 240.0, 241.0, 242.0, 243.0, 244.0, 246.0, 247.0, 249.0, 251.0, 252.0, 254.0, 257.0, 258.0, 261.0, 263.0, 264.0, 265.0, 266.0, 268.0, 270.0, 271.0, 272.0, 273.0, 277.0, 278.0, 279.0, 280.0, 281.0, 284.0, 285.0, 286.0, 287.0, 288.0, 291.0, 292.0, 296.0, 299.0]\n"
     ]
    }
   ],
   "source": [
    "print(sorted(df2['rainfall'].unique()))"
   ]
  },
  {
   "cell_type": "code",
   "execution_count": 14,
   "id": "5ce77291",
   "metadata": {},
   "outputs": [
    {
     "data": {
      "text/plain": [
       "70.0     38\n",
       "110.0    38\n",
       "109.0    34\n",
       "72.0     32\n",
       "75.0     32\n",
       "         ..\n",
       "266.0     1\n",
       "171.0     1\n",
       "271.0     1\n",
       "292.0     1\n",
       "159.0     1\n",
       "Name: rainfall, Length: 251, dtype: int64"
      ]
     },
     "execution_count": 14,
     "metadata": {},
     "output_type": "execute_result"
    }
   ],
   "source": [
    "df2['rainfall'].value_counts()"
   ]
  },
  {
   "cell_type": "code",
   "execution_count": 15,
   "id": "7d8b3062",
   "metadata": {},
   "outputs": [
    {
     "data": {
      "text/html": [
       "<div>\n",
       "<style scoped>\n",
       "    .dataframe tbody tr th:only-of-type {\n",
       "        vertical-align: middle;\n",
       "    }\n",
       "\n",
       "    .dataframe tbody tr th {\n",
       "        vertical-align: top;\n",
       "    }\n",
       "\n",
       "    .dataframe thead th {\n",
       "        text-align: right;\n",
       "    }\n",
       "</style>\n",
       "<table border=\"1\" class=\"dataframe\">\n",
       "  <thead>\n",
       "    <tr style=\"text-align: right;\">\n",
       "      <th></th>\n",
       "      <th>nitrogen</th>\n",
       "      <th>phosphorous</th>\n",
       "      <th>potassium</th>\n",
       "      <th>temperature</th>\n",
       "      <th>humidity</th>\n",
       "      <th>ph</th>\n",
       "      <th>rainfall</th>\n",
       "      <th>label</th>\n",
       "    </tr>\n",
       "  </thead>\n",
       "  <tbody>\n",
       "    <tr>\n",
       "      <th>0</th>\n",
       "      <td>90</td>\n",
       "      <td>42</td>\n",
       "      <td>43</td>\n",
       "      <td>21.0</td>\n",
       "      <td>83.0</td>\n",
       "      <td>7.0</td>\n",
       "      <td>203.0</td>\n",
       "      <td>rice</td>\n",
       "    </tr>\n",
       "    <tr>\n",
       "      <th>1</th>\n",
       "      <td>85</td>\n",
       "      <td>58</td>\n",
       "      <td>41</td>\n",
       "      <td>22.0</td>\n",
       "      <td>81.0</td>\n",
       "      <td>8.0</td>\n",
       "      <td>227.0</td>\n",
       "      <td>rice</td>\n",
       "    </tr>\n",
       "    <tr>\n",
       "      <th>2</th>\n",
       "      <td>60</td>\n",
       "      <td>55</td>\n",
       "      <td>44</td>\n",
       "      <td>24.0</td>\n",
       "      <td>83.0</td>\n",
       "      <td>8.0</td>\n",
       "      <td>264.0</td>\n",
       "      <td>rice</td>\n",
       "    </tr>\n",
       "    <tr>\n",
       "      <th>3</th>\n",
       "      <td>74</td>\n",
       "      <td>35</td>\n",
       "      <td>40</td>\n",
       "      <td>27.0</td>\n",
       "      <td>81.0</td>\n",
       "      <td>7.0</td>\n",
       "      <td>243.0</td>\n",
       "      <td>rice</td>\n",
       "    </tr>\n",
       "    <tr>\n",
       "      <th>4</th>\n",
       "      <td>78</td>\n",
       "      <td>42</td>\n",
       "      <td>42</td>\n",
       "      <td>21.0</td>\n",
       "      <td>82.0</td>\n",
       "      <td>8.0</td>\n",
       "      <td>263.0</td>\n",
       "      <td>rice</td>\n",
       "    </tr>\n",
       "    <tr>\n",
       "      <th>5</th>\n",
       "      <td>69</td>\n",
       "      <td>37</td>\n",
       "      <td>42</td>\n",
       "      <td>24.0</td>\n",
       "      <td>84.0</td>\n",
       "      <td>8.0</td>\n",
       "      <td>252.0</td>\n",
       "      <td>rice</td>\n",
       "    </tr>\n",
       "    <tr>\n",
       "      <th>6</th>\n",
       "      <td>69</td>\n",
       "      <td>55</td>\n",
       "      <td>38</td>\n",
       "      <td>23.0</td>\n",
       "      <td>83.0</td>\n",
       "      <td>6.0</td>\n",
       "      <td>272.0</td>\n",
       "      <td>rice</td>\n",
       "    </tr>\n",
       "    <tr>\n",
       "      <th>7</th>\n",
       "      <td>94</td>\n",
       "      <td>53</td>\n",
       "      <td>40</td>\n",
       "      <td>21.0</td>\n",
       "      <td>83.0</td>\n",
       "      <td>6.0</td>\n",
       "      <td>242.0</td>\n",
       "      <td>rice</td>\n",
       "    </tr>\n",
       "    <tr>\n",
       "      <th>8</th>\n",
       "      <td>89</td>\n",
       "      <td>54</td>\n",
       "      <td>38</td>\n",
       "      <td>25.0</td>\n",
       "      <td>84.0</td>\n",
       "      <td>7.0</td>\n",
       "      <td>231.0</td>\n",
       "      <td>rice</td>\n",
       "    </tr>\n",
       "    <tr>\n",
       "      <th>9</th>\n",
       "      <td>68</td>\n",
       "      <td>58</td>\n",
       "      <td>38</td>\n",
       "      <td>24.0</td>\n",
       "      <td>84.0</td>\n",
       "      <td>7.0</td>\n",
       "      <td>222.0</td>\n",
       "      <td>rice</td>\n",
       "    </tr>\n",
       "  </tbody>\n",
       "</table>\n",
       "</div>"
      ],
      "text/plain": [
       "   nitrogen  phosphorous  potassium  temperature  humidity   ph  rainfall  \\\n",
       "0        90           42         43         21.0      83.0  7.0     203.0   \n",
       "1        85           58         41         22.0      81.0  8.0     227.0   \n",
       "2        60           55         44         24.0      83.0  8.0     264.0   \n",
       "3        74           35         40         27.0      81.0  7.0     243.0   \n",
       "4        78           42         42         21.0      82.0  8.0     263.0   \n",
       "5        69           37         42         24.0      84.0  8.0     252.0   \n",
       "6        69           55         38         23.0      83.0  6.0     272.0   \n",
       "7        94           53         40         21.0      83.0  6.0     242.0   \n",
       "8        89           54         38         25.0      84.0  7.0     231.0   \n",
       "9        68           58         38         24.0      84.0  7.0     222.0   \n",
       "\n",
       "  label  \n",
       "0  rice  \n",
       "1  rice  \n",
       "2  rice  \n",
       "3  rice  \n",
       "4  rice  \n",
       "5  rice  \n",
       "6  rice  \n",
       "7  rice  \n",
       "8  rice  \n",
       "9  rice  "
      ]
     },
     "execution_count": 15,
     "metadata": {},
     "output_type": "execute_result"
    }
   ],
   "source": [
    "df2.head(10)"
   ]
  },
  {
   "cell_type": "code",
   "execution_count": 16,
   "id": "d1e91dd7",
   "metadata": {},
   "outputs": [
    {
     "name": "stdout",
     "output_type": "stream",
     "text": [
      "[20 20 20 ...  5  5  5]\n"
     ]
    }
   ],
   "source": [
    "from sklearn.preprocessing import LabelEncoder\n",
    "\n",
    "# create a LabelEncoder object\n",
    "le1 = LabelEncoder()\n",
    "\n",
    "# encode the diagnosis column\n",
    "y1_encoded = le1.fit_transform(df2['label'])\n",
    "\n",
    "# print the encoded values\n",
    "print(y1_encoded)"
   ]
  },
  {
   "cell_type": "code",
   "execution_count": 17,
   "id": "ae7f36bd",
   "metadata": {},
   "outputs": [],
   "source": [
    "import json\n",
    "from sklearn.preprocessing import LabelEncoder\n",
    "\n",
    "# Create an example label encoder object\n",
    "# le = LabelEncoder()\n",
    "# le.fit([\"red\", \"green\", \"blue\", \"red\"])\n",
    "\n",
    "# Get the inverse mapping\n",
    "inverse_mapping_crops = le1.inverse_transform(range(len(le1.classes_)))\n",
    "\n",
    "# Create the dictionary of column name to inverse mapping\n",
    "column_mapping = {\"crops\": {k: v for k, v in zip(range(len(le1.classes_)), inverse_mapping_crops)}}\n",
    "\n",
    "# Convert the dictionary to a JSON string\n",
    "json_str = json.dumps(column_mapping)\n",
    "\n",
    "# Write the JSON string to a file\n",
    "with open(\"inverse_mapping_crops.json\", \"w\") as f:\n",
    "    f.write(json_str)"
   ]
  },
  {
   "cell_type": "code",
   "execution_count": 18,
   "id": "1758695b",
   "metadata": {},
   "outputs": [
    {
     "name": "stdout",
     "output_type": "stream",
     "text": [
      "Encoded value: 6\n",
      "Original value: mango\n"
     ]
    }
   ],
   "source": [
    "import json\n",
    "\n",
    "# Read the JSON file into a Python dictionary\n",
    "with open(\"inverse_mapping_crops.json\", \"r\") as f:\n",
    "    column_mapping = json.load(f)\n",
    "\n",
    "# Get the dictionary for the \"color\" column --- matlab color column j humne banaya hai matlab hum isme apne \n",
    "#according col name daal skte hai\n",
    "crops_mapping = column_mapping[\"crops\"]\n",
    "\n",
    "# Example encoded result\n",
    "encoded_result = 12\n",
    "\n",
    "# Look up the original value\n",
    "original_value = crops_mapping[str(encoded_result)]\n",
    "\n",
    "print(\"Encoded value: 6\")\n",
    "print(\"Original value:\", original_value)"
   ]
  },
  {
   "cell_type": "code",
   "execution_count": 19,
   "id": "3d298b21",
   "metadata": {},
   "outputs": [],
   "source": [
    "X=df2.drop(['label'],axis='columns')"
   ]
  },
  {
   "cell_type": "code",
   "execution_count": 20,
   "id": "c9a2c9e8",
   "metadata": {},
   "outputs": [
    {
     "data": {
      "text/plain": [
       "RandomForestClassifier(random_state=42)"
      ]
     },
     "execution_count": 20,
     "metadata": {},
     "output_type": "execute_result"
    }
   ],
   "source": [
    "from sklearn.ensemble import RandomForestClassifier\n",
    "from sklearn.model_selection import train_test_split\n",
    "\n",
    "# split data into train and test sets\n",
    "X_train, X_test, y_train_crops, y_test_crops = train_test_split(X, y1_encoded, test_size=0.2, random_state=42)\n",
    "\n",
    "# train random forest classifier for diagnosis\n",
    "rfc_crops = RandomForestClassifier(n_estimators=100, random_state=42)\n",
    "rfc_crops.fit(X_train, y_train_crops)"
   ]
  },
  {
   "cell_type": "code",
   "execution_count": 21,
   "id": "6a06a1c2",
   "metadata": {
    "scrolled": true
   },
   "outputs": [
    {
     "data": {
      "text/plain": [
       "0.9931818181818182"
      ]
     },
     "execution_count": 21,
     "metadata": {},
     "output_type": "execute_result"
    }
   ],
   "source": [
    "rfc_crops.score(X_test,y_test_crops)"
   ]
  },
  {
   "cell_type": "code",
   "execution_count": null,
   "id": "03e76d50",
   "metadata": {},
   "outputs": [],
   "source": []
  },
  {
   "cell_type": "code",
   "execution_count": 22,
   "id": "a6017e1b",
   "metadata": {},
   "outputs": [
    {
     "data": {
      "text/plain": [
       "array([15, 21, 17, 17,  0, 12,  0, 13, 14, 10,  2,  4, 19,  8,  4, 19,  0,\n",
       "       11, 17, 15,  5, 17, 16, 17,  3,  8, 14, 16, 18, 20, 19, 13,  8, 10,\n",
       "        8,  2,  8,  3,  3,  9, 17, 12,  2, 11, 14, 11, 18,  4, 15, 11,  2,\n",
       "        5,  7, 14,  5,  9,  6,  0,  1,  2, 21,  4, 10, 16, 17, 18, 16, 20,\n",
       "       15, 18, 15,  4,  8,  1,  2, 17,  1,  6, 21, 16,  5,  3, 20, 13, 16,\n",
       "       12,  5, 13,  2, 19, 11, 13,  6, 17, 18, 13,  9,  5,  2, 10,  4, 20,\n",
       "       16, 15, 21,  9, 21,  1, 18, 13,  1,  8,  6, 19, 18,  3, 11,  4, 19,\n",
       "       20, 18,  7,  2,  4,  3,  2,  4, 11,  1, 13,  1,  9, 19,  3,  4, 16,\n",
       "       18,  1,  1,  0,  9, 15, 14, 13,  4, 11,  0,  4,  9, 13, 14, 10, 21,\n",
       "       14, 18, 18, 18,  9, 11,  8,  3,  0, 16,  6, 20,  4,  7, 10, 21,  7,\n",
       "        7,  2, 19,  3,  4, 11, 10,  7, 21,  8,  5,  5,  9,  8, 13,  9,  1,\n",
       "        9,  4, 17, 17, 14, 12, 19, 21,  9, 11,  0,  2,  3,  7,  7,  1,  6,\n",
       "       20, 19, 14,  1,  8, 14, 11,  3,  3,  3,  0, 20,  9, 17,  5,  2,  9,\n",
       "       12, 12,  4, 17,  0,  3, 19,  3, 15,  0, 15, 15, 12, 12,  6,  4, 19,\n",
       "       20, 15,  5, 17, 13, 11, 12, 15, 18, 14,  5,  7,  4,  6, 18, 20,  0,\n",
       "       19,  5,  3,  6,  8, 12,  1, 17,  0,  3, 20, 18, 13, 14,  8, 19,  7,\n",
       "       13,  8, 11,  4, 11,  3,  1, 20,  4,  8, 12, 15,  0,  1, 18,  2, 16,\n",
       "        3, 21,  1,  0,  3,  5, 18, 16,  0,  4, 17, 21, 13, 17,  3, 19,  3,\n",
       "       17, 10,  0, 19,  3, 12,  3, 19, 21,  9, 14, 15, 21,  9, 15, 12, 20,\n",
       "        2,  3,  1,  2, 18, 17, 18, 14,  4,  6,  7,  0, 10,  1,  8,  0, 19,\n",
       "        0, 14, 15,  5,  5, 18,  8,  9,  1, 11,  8, 11, 18, 12,  9, 19, 21,\n",
       "        2, 11, 20, 13,  9, 12,  6, 17, 13,  6, 14, 16,  8,  2, 14,  5,  1,\n",
       "       18, 17,  0, 19, 11, 12,  4,  0, 10,  8, 13, 10,  4,  2,  8, 14,  6,\n",
       "       21,  0,  7,  4,  7, 21, 20, 12, 12,  5, 19,  1,  7,  8, 16,  6, 12,\n",
       "       17, 15, 13,  8,  3, 13, 19, 21, 13,  6, 17, 21, 13, 20,  4, 13, 13,\n",
       "       11, 20, 11,  4, 16, 19,  9, 21, 14,  2, 20, 20,  6,  6, 18])"
      ]
     },
     "execution_count": 22,
     "metadata": {},
     "output_type": "execute_result"
    }
   ],
   "source": [
    "y_test_crops"
   ]
  },
  {
   "cell_type": "code",
   "execution_count": 23,
   "id": "325bac34",
   "metadata": {
    "scrolled": true
   },
   "outputs": [
    {
     "data": {
      "text/plain": [
       "array([15, 21, 17, 17,  0, 12,  0, 13, 14, 10,  2,  4, 19,  8,  4, 19,  0,\n",
       "       11, 17, 15,  5, 17, 16, 17,  3,  8, 14, 16, 18, 20, 19, 13,  8, 10,\n",
       "        8,  2,  8,  3,  3,  9, 17, 12,  2, 11, 14, 11, 18,  4, 15, 11,  2,\n",
       "        5,  7, 14,  5,  9,  6,  0,  1,  2, 21,  4, 10, 16, 17, 18, 16, 20,\n",
       "       15, 18, 15,  4,  8,  1,  2, 17,  1,  6, 21, 16,  5,  3, 20, 13, 16,\n",
       "       12,  5, 13,  2, 19, 11, 13,  6, 17, 18, 13,  9,  5,  2, 10,  4, 20,\n",
       "       16, 15, 21,  9, 21,  1, 18, 13,  1,  8,  6, 19, 18,  3, 11,  4, 19,\n",
       "       20, 18,  7,  2,  4,  3,  2,  4, 11,  1, 13,  1,  9, 19,  3,  4, 16,\n",
       "       18,  1,  1,  0,  9, 15, 14, 13,  4, 11,  0,  4,  9, 13, 14, 10, 21,\n",
       "       14, 18, 18, 18,  9, 11,  8,  3,  0, 16,  6, 20,  4,  7, 10, 21,  7,\n",
       "        7,  2, 19,  3,  4, 11, 10,  7, 21,  8,  5,  5,  9,  8, 13,  9,  1,\n",
       "        9,  4, 17, 17, 14, 12, 19, 21,  9, 11,  0,  2,  3,  7,  7,  1,  6,\n",
       "       20, 19, 14,  1,  8, 14, 11,  3,  3,  3,  0, 20,  9, 17,  5,  2,  9,\n",
       "       12, 12,  4, 17,  0,  3, 19,  3, 15,  0, 15, 15, 12, 12,  6,  4, 19,\n",
       "       20, 15,  5, 17, 13, 11, 12, 15, 18, 14,  5,  7,  4,  6, 18, 20,  0,\n",
       "       19,  5,  3,  6,  8, 12,  1, 17,  0,  3, 20, 18, 13, 14,  8, 19,  7,\n",
       "       13,  8, 11,  4, 11,  3,  1,  8,  4,  8, 12, 15,  0,  1, 18,  2, 16,\n",
       "        3, 21,  1,  0,  3,  5, 18, 16,  0,  4, 17, 21, 13, 17,  3, 19,  3,\n",
       "       17, 10,  0, 19,  3, 12,  3, 19, 21,  9, 14, 15, 21,  9, 15, 12,  8,\n",
       "        2,  3,  1,  2, 18, 17, 18, 14,  4,  6,  7,  0, 10,  1,  8,  0, 19,\n",
       "        0, 14, 15,  5,  5, 18,  8,  9,  1, 11,  8, 11, 18, 12,  9, 19, 21,\n",
       "        2, 11, 20, 13,  9, 12,  6, 17, 13,  6, 14, 16,  8,  2, 14,  5,  1,\n",
       "       18, 17,  0, 19, 11, 12,  4,  0, 10,  8, 13, 10,  4,  2,  8, 14,  6,\n",
       "       21,  0,  7,  4,  7, 21, 20, 12, 12,  5, 19,  1,  7,  8, 16,  6, 12,\n",
       "       17, 15, 13,  8,  3, 13, 19, 21, 13,  6, 17, 21, 10, 20,  4, 13, 13,\n",
       "       11, 20, 11,  4, 16, 19,  9, 21, 14,  2, 20, 20,  6,  6, 18])"
      ]
     },
     "execution_count": 23,
     "metadata": {},
     "output_type": "execute_result"
    }
   ],
   "source": [
    "rfc_crops.predict(X_test)"
   ]
  },
  {
   "cell_type": "code",
   "execution_count": 24,
   "id": "28b770d4",
   "metadata": {},
   "outputs": [
    {
     "data": {
      "text/plain": [
       "Index(['nitrogen', 'phosphorous', 'potassium', 'temperature', 'humidity', 'ph',\n",
       "       'rainfall', 'label'],\n",
       "      dtype='object')"
      ]
     },
     "execution_count": 24,
     "metadata": {},
     "output_type": "execute_result"
    }
   ],
   "source": [
    "df2.columns"
   ]
  },
  {
   "cell_type": "code",
   "execution_count": 25,
   "id": "1ede9fad",
   "metadata": {},
   "outputs": [],
   "source": [
    "def predict_crops(nitrogen, phosphorous, potassium, temperature, humidity, ph, rainfall):\n",
    "    \n",
    "    # Initialize x array with zeros of length equal to number of columns in X\n",
    "    x = np.zeros(len(X.columns))\n",
    "    \n",
    "    # Set the corresponding feature values in the x array\n",
    "    x[0] = nitrogen\n",
    "    x[1] = phosphorous\n",
    "    x[2] = potassium\n",
    "    x[3] = temperature\n",
    "    x[4] = humidity\n",
    "    x[5] = ph\n",
    "    x[6] = rainfall\n",
    "   \n",
    "    \n",
    "    # Use the trained random forest classifier model to predict the diagnosis\n",
    "    crops = rfc_crops.predict([x])[0]\n",
    "    \n",
    "    # Example encoded result\n",
    "    encoded_result1 = crops\n",
    "\n",
    "    # Look up the original value\n",
    "    original_value1 = crops_mapping[str(encoded_result1)]\n",
    "    \n",
    "    return original_value1"
   ]
  },
  {
   "cell_type": "code",
   "execution_count": 26,
   "id": "916df4cf",
   "metadata": {
    "scrolled": true
   },
   "outputs": [
    {
     "name": "stderr",
     "output_type": "stream",
     "text": [
      "c:\\users\\paltu\\appdata\\local\\programs\\python\\python37\\lib\\site-packages\\sklearn\\base.py:451: UserWarning: X does not have valid feature names, but RandomForestClassifier was fitted with feature names\n",
      "  \"X does not have valid feature names, but\"\n"
     ]
    },
    {
     "data": {
      "text/plain": [
       "'mango'"
      ]
     },
     "execution_count": 26,
     "metadata": {},
     "output_type": "execute_result"
    }
   ],
   "source": [
    "predict_crops(18,19,27,28,53,5.0,95)"
   ]
  },
  {
   "cell_type": "code",
   "execution_count": 27,
   "id": "bfe349d3",
   "metadata": {
    "scrolled": true
   },
   "outputs": [
    {
     "name": "stderr",
     "output_type": "stream",
     "text": [
      "c:\\users\\paltu\\appdata\\local\\programs\\python\\python37\\lib\\site-packages\\sklearn\\base.py:451: UserWarning: X does not have valid feature names, but RandomForestClassifier was fitted with feature names\n",
      "  \"X does not have valid feature names, but\"\n"
     ]
    },
    {
     "data": {
      "text/plain": [
       "'muskmelon'"
      ]
     },
     "execution_count": 27,
     "metadata": {},
     "output_type": "execute_result"
    }
   ],
   "source": [
    "predict_crops(101,17,47,30,95,7,27)"
   ]
  },
  {
   "cell_type": "code",
   "execution_count": 28,
   "id": "8dab5c12",
   "metadata": {},
   "outputs": [],
   "source": [
    "from sklearn.metrics import confusion_matrix\n",
    "import seaborn as sns"
   ]
  },
  {
   "cell_type": "code",
   "execution_count": 29,
   "id": "0982f0c2",
   "metadata": {},
   "outputs": [],
   "source": [
    "cm=confusion_matrix(y_test_crops,rfc_crops.predict(X_test))"
   ]
  },
  {
   "cell_type": "code",
   "execution_count": 30,
   "id": "749aaff2",
   "metadata": {
    "scrolled": true
   },
   "outputs": [
    {
     "data": {
      "text/plain": [
       "<matplotlib.image.AxesImage at 0x2eb2379c248>"
      ]
     },
     "execution_count": 30,
     "metadata": {},
     "output_type": "execute_result"
    },
    {
     "data": {
      "image/png": "[encoded data removed]",
      "text/plain": [
       "<Figure size 1440x720 with 1 Axes>"
      ]
     },
     "metadata": {
      "needs_background": "light"
     },
     "output_type": "display_data"
    }
   ],
   "source": [
    "plt.imshow(cm)"
   ]
  },
  {
   "cell_type": "code",
   "execution_count": 31,
   "id": "4bc7dafc",
   "metadata": {},
   "outputs": [],
   "source": [
    "from sklearn.metrics import classification_report"
   ]
  },
  {
   "cell_type": "code",
   "execution_count": 32,
   "id": "268b1acd",
   "metadata": {
    "scrolled": false
   },
   "outputs": [
    {
     "name": "stdout",
     "output_type": "stream",
     "text": [
      "              precision    recall  f1-score   support\n",
      "\n",
      "           0       1.00      1.00      1.00        23\n",
      "           1       1.00      1.00      1.00        21\n",
      "           2       1.00      1.00      1.00        20\n",
      "           3       1.00      1.00      1.00        26\n",
      "           4       1.00      1.00      1.00        27\n",
      "           5       1.00      1.00      1.00        17\n",
      "           6       1.00      1.00      1.00        17\n",
      "           7       1.00      1.00      1.00        14\n",
      "           8       0.92      1.00      0.96        23\n",
      "           9       1.00      1.00      1.00        20\n",
      "          10       0.92      1.00      0.96        11\n",
      "          11       1.00      1.00      1.00        21\n",
      "          12       1.00      1.00      1.00        19\n",
      "          13       1.00      0.96      0.98        24\n",
      "          14       1.00      1.00      1.00        19\n",
      "          15       1.00      1.00      1.00        17\n",
      "          16       1.00      1.00      1.00        14\n",
      "          17       1.00      1.00      1.00        23\n",
      "          18       1.00      1.00      1.00        23\n",
      "          19       1.00      1.00      1.00        23\n",
      "          20       1.00      0.89      0.94        19\n",
      "          21       1.00      1.00      1.00        19\n",
      "\n",
      "    accuracy                           0.99       440\n",
      "   macro avg       0.99      0.99      0.99       440\n",
      "weighted avg       0.99      0.99      0.99       440\n",
      "\n"
     ]
    }
   ],
   "source": [
    "print(classification_report(y_test_crops, rfc_crops.predict(X_test)))"
   ]
  },
  {
   "cell_type": "code",
   "execution_count": 35,
   "id": "89ef7894",
   "metadata": {},
   "outputs": [],
   "source": [
    "from sklearn import metrics\n"
   ]
  },
  {
   "cell_type": "code",
   "execution_count": 43,
   "id": "48864ecc",
   "metadata": {
    "scrolled": false
   },
   "outputs": [
    {
     "data": {
      "text/plain": [
       "0.9931818181818182"
      ]
     },
     "execution_count": 43,
     "metadata": {},
     "output_type": "execute_result"
    }
   ],
   "source": [
    "Accuracy = metrics.accuracy_score(y_test_crops, rfc_crops.predict(X_test))\n",
    "Accuracy"
   ]
  },
  {
   "cell_type": "code",
   "execution_count": 44,
   "id": "e37a2281",
   "metadata": {},
   "outputs": [
    {
     "ename": "AttributeError",
     "evalue": "'function' object has no attribute 'ravel'",
     "output_type": "error",
     "traceback": [
      "\u001b[1;31m---------------------------------------------------------------------------\u001b[0m",
      "\u001b[1;31mAttributeError\u001b[0m                            Traceback (most recent call last)",
      "\u001b[1;32m~\\AppData\\Local\\Temp/ipykernel_12208/1284136834.py\u001b[0m in \u001b[0;36m<module>\u001b[1;34m\u001b[0m\n\u001b[1;32m----> 1\u001b[1;33m \u001b[0mtn\u001b[0m\u001b[1;33m,\u001b[0m \u001b[0mfp\u001b[0m\u001b[1;33m,\u001b[0m \u001b[0mfn\u001b[0m\u001b[1;33m,\u001b[0m \u001b[0mtp\u001b[0m \u001b[1;33m=\u001b[0m \u001b[0mconfusion_matrix\u001b[0m\u001b[1;33m.\u001b[0m\u001b[0mravel\u001b[0m\u001b[1;33m(\u001b[0m\u001b[1;33m)\u001b[0m\u001b[1;33m\u001b[0m\u001b[1;33m\u001b[0m\u001b[0m\n\u001b[0m\u001b[0;32m      2\u001b[0m \u001b[0mprint\u001b[0m\u001b[1;33m(\u001b[0m\u001b[0mtn\u001b[0m\u001b[1;33m,\u001b[0m \u001b[0mfp\u001b[0m\u001b[1;33m,\u001b[0m \u001b[0mfn\u001b[0m\u001b[1;33m,\u001b[0m \u001b[0mtp\u001b[0m \u001b[1;33m)\u001b[0m\u001b[1;33m\u001b[0m\u001b[1;33m\u001b[0m\u001b[0m\n",
      "\u001b[1;31mAttributeError\u001b[0m: 'function' object has no attribute 'ravel'"
     ]
    }
   ],
   "source": [
    "tn, fp, fn, tp = confusion_matrix.ravel()\n",
    "print(tn, fp, fn, tp )"
   ]
  },
  {
   "cell_type": "code",
   "execution_count": 40,
   "id": "637b8547",
   "metadata": {},
   "outputs": [],
   "source": [
    "# Precision = metrics.precision_score(y_test_crops, rfc_crops.predict(X_test))\n"
   ]
  },
  {
   "cell_type": "markdown",
   "id": "da857359",
   "metadata": {},
   "source": [
    "# saving the model"
   ]
  },
  {
   "cell_type": "code",
   "execution_count": 29,
   "id": "129c507e",
   "metadata": {},
   "outputs": [],
   "source": [
    "import json\n",
    "columns={\n",
    "    'data_columns':[col.lower() for col in X.columns]\n",
    "}\n",
    "\n",
    "with open(\"columns_crops.json\",\"w\") as f:\n",
    "    f.write(json.dumps(columns))"
   ]
  },
  {
   "cell_type": "code",
   "execution_count": 30,
   "id": "9fc6096f",
   "metadata": {},
   "outputs": [],
   "source": [
    "import pickle\n",
    "with open('rfc_model_crops.pickle','wb') as f:\n",
    "    pickle.dump(rfc_crops,f)"
   ]
  },
  {
   "cell_type": "code",
   "execution_count": null,
   "id": "7211837b",
   "metadata": {},
   "outputs": [],
   "source": []
  },
  {
   "cell_type": "code",
   "execution_count": null,
   "id": "9ca669b0",
   "metadata": {},
   "outputs": [],
   "source": []
  },
  {
   "cell_type": "code",
   "execution_count": null,
   "id": "524b46b3",
   "metadata": {},
   "outputs": [],
   "source": []
  },
  {
   "cell_type": "code",
   "execution_count": null,
   "id": "b3a78507",
   "metadata": {},
   "outputs": [],
   "source": []
  },
  {
   "cell_type": "code",
   "execution_count": 28,
   "id": "c19bd49e",
   "metadata": {
    "scrolled": true
   },
   "outputs": [
    {
     "data": {
      "text/html": [
       "<div>\n",
       "<style scoped>\n",
       "    .dataframe tbody tr th:only-of-type {\n",
       "        vertical-align: middle;\n",
       "    }\n",
       "\n",
       "    .dataframe tbody tr th {\n",
       "        vertical-align: top;\n",
       "    }\n",
       "\n",
       "    .dataframe thead th {\n",
       "        text-align: right;\n",
       "    }\n",
       "</style>\n",
       "<table border=\"1\" class=\"dataframe\">\n",
       "  <thead>\n",
       "    <tr style=\"text-align: right;\">\n",
       "      <th></th>\n",
       "      <th>nitrogen</th>\n",
       "      <th>phosphorous</th>\n",
       "      <th>potassium</th>\n",
       "      <th>temperature</th>\n",
       "      <th>humidity</th>\n",
       "      <th>ph</th>\n",
       "      <th>rainfall</th>\n",
       "    </tr>\n",
       "  </thead>\n",
       "  <tbody>\n",
       "    <tr>\n",
       "      <th>1451</th>\n",
       "      <td>101</td>\n",
       "      <td>17</td>\n",
       "      <td>47</td>\n",
       "      <td>30.0</td>\n",
       "      <td>95.0</td>\n",
       "      <td>7.0</td>\n",
       "      <td>27.0</td>\n",
       "    </tr>\n",
       "    <tr>\n",
       "      <th>1334</th>\n",
       "      <td>98</td>\n",
       "      <td>8</td>\n",
       "      <td>51</td>\n",
       "      <td>27.0</td>\n",
       "      <td>87.0</td>\n",
       "      <td>7.0</td>\n",
       "      <td>50.0</td>\n",
       "    </tr>\n",
       "    <tr>\n",
       "      <th>1761</th>\n",
       "      <td>59</td>\n",
       "      <td>62</td>\n",
       "      <td>49</td>\n",
       "      <td>44.0</td>\n",
       "      <td>94.0</td>\n",
       "      <td>7.0</td>\n",
       "      <td>115.0</td>\n",
       "    </tr>\n",
       "    <tr>\n",
       "      <th>1735</th>\n",
       "      <td>44</td>\n",
       "      <td>60</td>\n",
       "      <td>55</td>\n",
       "      <td>35.0</td>\n",
       "      <td>91.0</td>\n",
       "      <td>7.0</td>\n",
       "      <td>99.0</td>\n",
       "    </tr>\n",
       "    <tr>\n",
       "      <th>1576</th>\n",
       "      <td>30</td>\n",
       "      <td>137</td>\n",
       "      <td>200</td>\n",
       "      <td>23.0</td>\n",
       "      <td>91.0</td>\n",
       "      <td>6.0</td>\n",
       "      <td>119.0</td>\n",
       "    </tr>\n",
       "    <tr>\n",
       "      <th>1110</th>\n",
       "      <td>18</td>\n",
       "      <td>19</td>\n",
       "      <td>27</td>\n",
       "      <td>28.0</td>\n",
       "      <td>53.0</td>\n",
       "      <td>5.0</td>\n",
       "      <td>95.0</td>\n",
       "    </tr>\n",
       "    <tr>\n",
       "      <th>1594</th>\n",
       "      <td>35</td>\n",
       "      <td>145</td>\n",
       "      <td>195</td>\n",
       "      <td>23.0</td>\n",
       "      <td>95.0</td>\n",
       "      <td>7.0</td>\n",
       "      <td>111.0</td>\n",
       "    </tr>\n",
       "    <tr>\n",
       "      <th>530</th>\n",
       "      <td>22</td>\n",
       "      <td>44</td>\n",
       "      <td>24</td>\n",
       "      <td>25.0</td>\n",
       "      <td>57.0</td>\n",
       "      <td>7.0</td>\n",
       "      <td>59.0</td>\n",
       "    </tr>\n",
       "    <tr>\n",
       "      <th>651</th>\n",
       "      <td>11</td>\n",
       "      <td>46</td>\n",
       "      <td>24</td>\n",
       "      <td>28.0</td>\n",
       "      <td>90.0</td>\n",
       "      <td>7.0</td>\n",
       "      <td>57.0</td>\n",
       "    </tr>\n",
       "    <tr>\n",
       "      <th>819</th>\n",
       "      <td>3</td>\n",
       "      <td>78</td>\n",
       "      <td>18</td>\n",
       "      <td>21.0</td>\n",
       "      <td>69.0</td>\n",
       "      <td>7.0</td>\n",
       "      <td>51.0</td>\n",
       "    </tr>\n",
       "    <tr>\n",
       "      <th>771</th>\n",
       "      <td>44</td>\n",
       "      <td>75</td>\n",
       "      <td>22</td>\n",
       "      <td>31.0</td>\n",
       "      <td>65.0</td>\n",
       "      <td>8.0</td>\n",
       "      <td>72.0</td>\n",
       "    </tr>\n",
       "    <tr>\n",
       "      <th>1878</th>\n",
       "      <td>0</td>\n",
       "      <td>19</td>\n",
       "      <td>31</td>\n",
       "      <td>26.0</td>\n",
       "      <td>95.0</td>\n",
       "      <td>7.0</td>\n",
       "      <td>179.0</td>\n",
       "    </tr>\n",
       "    <tr>\n",
       "      <th>915</th>\n",
       "      <td>16</td>\n",
       "      <td>15</td>\n",
       "      <td>42</td>\n",
       "      <td>20.0</td>\n",
       "      <td>90.0</td>\n",
       "      <td>7.0</td>\n",
       "      <td>109.0</td>\n",
       "    </tr>\n",
       "    <tr>\n",
       "      <th>2015</th>\n",
       "      <td>70</td>\n",
       "      <td>38</td>\n",
       "      <td>35</td>\n",
       "      <td>25.0</td>\n",
       "      <td>80.0</td>\n",
       "      <td>8.0</td>\n",
       "      <td>165.0</td>\n",
       "    </tr>\n",
       "    <tr>\n",
       "      <th>1876</th>\n",
       "      <td>25</td>\n",
       "      <td>12</td>\n",
       "      <td>26</td>\n",
       "      <td>29.0</td>\n",
       "      <td>96.0</td>\n",
       "      <td>7.0</td>\n",
       "      <td>135.0</td>\n",
       "    </tr>\n",
       "    <tr>\n",
       "      <th>937</th>\n",
       "      <td>36</td>\n",
       "      <td>24</td>\n",
       "      <td>41</td>\n",
       "      <td>25.0</td>\n",
       "      <td>95.0</td>\n",
       "      <td>8.0</td>\n",
       "      <td>104.0</td>\n",
       "    </tr>\n",
       "    <tr>\n",
       "      <th>1562</th>\n",
       "      <td>6</td>\n",
       "      <td>124</td>\n",
       "      <td>200</td>\n",
       "      <td>23.0</td>\n",
       "      <td>94.0</td>\n",
       "      <td>6.0</td>\n",
       "      <td>110.0</td>\n",
       "    </tr>\n",
       "    <tr>\n",
       "      <th>179</th>\n",
       "      <td>99</td>\n",
       "      <td>38</td>\n",
       "      <td>21</td>\n",
       "      <td>23.0</td>\n",
       "      <td>72.0</td>\n",
       "      <td>7.0</td>\n",
       "      <td>68.0</td>\n",
       "    </tr>\n",
       "    <tr>\n",
       "      <th>1723</th>\n",
       "      <td>34</td>\n",
       "      <td>62</td>\n",
       "      <td>55</td>\n",
       "      <td>28.0</td>\n",
       "      <td>91.0</td>\n",
       "      <td>7.0</td>\n",
       "      <td>239.0</td>\n",
       "    </tr>\n",
       "    <tr>\n",
       "      <th>1472</th>\n",
       "      <td>102</td>\n",
       "      <td>11</td>\n",
       "      <td>45</td>\n",
       "      <td>30.0</td>\n",
       "      <td>94.0</td>\n",
       "      <td>7.0</td>\n",
       "      <td>25.0</td>\n",
       "    </tr>\n",
       "  </tbody>\n",
       "</table>\n",
       "</div>"
      ],
      "text/plain": [
       "      nitrogen  phosphorous  potassium  temperature  humidity   ph  rainfall\n",
       "1451       101           17         47         30.0      95.0  7.0      27.0\n",
       "1334        98            8         51         27.0      87.0  7.0      50.0\n",
       "1761        59           62         49         44.0      94.0  7.0     115.0\n",
       "1735        44           60         55         35.0      91.0  7.0      99.0\n",
       "1576        30          137        200         23.0      91.0  6.0     119.0\n",
       "1110        18           19         27         28.0      53.0  5.0      95.0\n",
       "1594        35          145        195         23.0      95.0  7.0     111.0\n",
       "530         22           44         24         25.0      57.0  7.0      59.0\n",
       "651         11           46         24         28.0      90.0  7.0      57.0\n",
       "819          3           78         18         21.0      69.0  7.0      51.0\n",
       "771         44           75         22         31.0      65.0  8.0      72.0\n",
       "1878         0           19         31         26.0      95.0  7.0     179.0\n",
       "915         16           15         42         20.0      90.0  7.0     109.0\n",
       "2015        70           38         35         25.0      80.0  8.0     165.0\n",
       "1876        25           12         26         29.0      96.0  7.0     135.0\n",
       "937         36           24         41         25.0      95.0  8.0     104.0\n",
       "1562         6          124        200         23.0      94.0  6.0     110.0\n",
       "179         99           38         21         23.0      72.0  7.0      68.0\n",
       "1723        34           62         55         28.0      91.0  7.0     239.0\n",
       "1472       102           11         45         30.0      94.0  7.0      25.0"
      ]
     },
     "execution_count": 28,
     "metadata": {},
     "output_type": "execute_result"
    }
   ],
   "source": [
    "X_test.head(20)"
   ]
  },
  {
   "cell_type": "code",
   "execution_count": 35,
   "id": "d753f8e9",
   "metadata": {},
   "outputs": [],
   "source": [
    "df1['temperature'] = df1['temperature'].round(decimals = 1)"
   ]
  },
  {
   "cell_type": "code",
   "execution_count": 36,
   "id": "03af2164",
   "metadata": {},
   "outputs": [
    {
     "data": {
      "text/plain": [
       "24.9    34\n",
       "28.0    27\n",
       "25.4    27\n",
       "23.8    26\n",
       "24.4    25\n",
       "        ..\n",
       "41.7     1\n",
       "39.4     1\n",
       "13.3     1\n",
       "40.7     1\n",
       "41.3     1\n",
       "Name: temperature, Length: 281, dtype: int64"
      ]
     },
     "execution_count": 36,
     "metadata": {},
     "output_type": "execute_result"
    }
   ],
   "source": [
    "df1['temperature'].value_counts()"
   ]
  },
  {
   "cell_type": "code",
   "execution_count": 37,
   "id": "6f2aa497",
   "metadata": {
    "scrolled": true
   },
   "outputs": [
    {
     "name": "stdout",
     "output_type": "stream",
     "text": [
      "[8.8, 9.5, 9.7, 9.8, 10.0, 10.2, 10.3, 10.4, 10.7, 10.8, 10.9, 11.0, 11.2, 11.4, 11.5, 11.6, 11.7, 11.8, 11.9, 12.1, 12.2, 12.6, 12.8, 13.1, 13.2, 13.3, 13.4, 13.7, 13.8, 14.3, 14.8, 15.0, 15.3, 15.4, 15.5, 15.6, 15.8, 16.0, 16.1, 16.2, 16.3, 16.4, 16.5, 16.7, 16.8, 17.0, 17.1, 17.2, 17.3, 17.4, 17.5, 17.6, 17.7, 17.8, 17.9, 18.0, 18.1, 18.2, 18.3, 18.4, 18.5, 18.6, 18.7, 18.8, 18.9, 19.0, 19.1, 19.2, 19.3, 19.4, 19.5, 19.6, 19.7, 19.8, 19.9, 20.0, 20.1, 20.2, 20.3, 20.4, 20.5, 20.6, 20.7, 20.8, 20.9, 21.0, 21.1, 21.2, 21.3, 21.4, 21.5, 21.6, 21.7, 21.8, 21.9, 22.0, 22.1, 22.2, 22.3, 22.4, 22.5, 22.6, 22.7, 22.8, 22.9, 23.0, 23.1, 23.2, 23.3, 23.4, 23.5, 23.6, 23.7, 23.8, 23.9, 24.0, 24.1, 24.2, 24.3, 24.4, 24.5, 24.6, 24.7, 24.8, 24.9, 25.0, 25.1, 25.2, 25.3, 25.4, 25.5, 25.6, 25.7, 25.8, 25.9, 26.0, 26.1, 26.2, 26.3, 26.4, 26.5, 26.6, 26.7, 26.8, 26.9, 27.0, 27.1, 27.2, 27.3, 27.4, 27.5, 27.6, 27.7, 27.8, 27.9, 28.0, 28.1, 28.2, 28.3, 28.4, 28.5, 28.6, 28.7, 28.8, 28.9, 29.0, 29.1, 29.2, 29.3, 29.4, 29.5, 29.6, 29.7, 29.8, 29.9, 30.0, 30.1, 30.2, 30.3, 30.4, 30.5, 30.6, 30.7, 30.8, 30.9, 31.0, 31.1, 31.2, 31.3, 31.4, 31.5, 31.6, 31.7, 31.8, 31.9, 32.0, 32.1, 32.2, 32.3, 32.4, 32.5, 32.6, 32.7, 32.8, 32.9, 33.0, 33.1, 33.2, 33.3, 33.4, 33.5, 33.6, 33.7, 33.8, 33.9, 34.0, 34.1, 34.2, 34.3, 34.4, 34.5, 34.6, 34.7, 34.8, 34.9, 35.0, 35.1, 35.2, 35.3, 35.4, 35.5, 35.6, 35.7, 35.8, 35.9, 36.0, 36.2, 36.3, 36.5, 36.6, 36.7, 36.8, 36.9, 37.0, 37.1, 37.5, 37.6, 38.1, 38.2, 38.4, 38.6, 38.7, 39.0, 39.1, 39.2, 39.3, 39.4, 39.6, 39.7, 40.0, 40.1, 40.2, 40.7, 40.8, 41.0, 41.2, 41.3, 41.4, 41.7, 42.0, 42.1, 42.3, 42.4, 42.6, 42.8, 42.9, 43.0, 43.1, 43.3, 43.4, 43.7]\n"
     ]
    }
   ],
   "source": [
    "print(sorted(df2['temperature'].unique()))"
   ]
  },
  {
   "cell_type": "code",
   "execution_count": 81,
   "id": "81b67acc",
   "metadata": {},
   "outputs": [
    {
     "data": {
      "text/plain": [
       "array(['rice', 'maize', 'chickpea', 'kidneybeans', 'pigeonpeas',\n",
       "       'mothbeans', 'mungbean', 'blackgram', 'lentil', 'pomegranate',\n",
       "       'banana', 'mango', 'grapes', 'watermelon', 'muskmelon', 'apple',\n",
       "       'orange', 'papaya', 'coconut', 'cotton', 'jute', 'coffee'],\n",
       "      dtype=object)"
      ]
     },
     "execution_count": 81,
     "metadata": {},
     "output_type": "execute_result"
    }
   ],
   "source": [
    "df1['label'].unique()"
   ]
  },
  {
   "cell_type": "code",
   "execution_count": null,
   "id": "776d13b2",
   "metadata": {},
   "outputs": [],
   "source": [
    "kidneybeans"
   ]
  },
  {
   "cell_type": "code",
   "execution_count": 4,
   "id": "ff1d9764",
   "metadata": {},
   "outputs": [],
   "source": [
    "df4 = df4.loc[df4['commodity_name'].isin(['Rice','Maize','Kabuli Chana(Chickpeas-White)','Arhar Dal(Tur Dal)','Mataki'\n",
    "                                         'Green Gram (Moong)(Whole)','Black Gram (Urd Beans)(Whole)','Lentil (Masur)(Whole)',\n",
    "                                         'Pomegranate','Banana','Mango','Grapes','Water Melon','Karbuja(Musk Melon)',\n",
    "                                         'Apple','Orange','Papaya','Coconut','Cotton','Jute','Coffee'])]"
   ]
  },
  {
   "cell_type": "code",
   "execution_count": 5,
   "id": "8b6d86af",
   "metadata": {},
   "outputs": [
    {
     "data": {
      "text/html": [
       "<div>\n",
       "<style scoped>\n",
       "    .dataframe tbody tr th:only-of-type {\n",
       "        vertical-align: middle;\n",
       "    }\n",
       "\n",
       "    .dataframe tbody tr th {\n",
       "        vertical-align: top;\n",
       "    }\n",
       "\n",
       "    .dataframe thead th {\n",
       "        text-align: right;\n",
       "    }\n",
       "</style>\n",
       "<table border=\"1\" class=\"dataframe\">\n",
       "  <thead>\n",
       "    <tr style=\"text-align: right;\">\n",
       "      <th></th>\n",
       "      <th>state_name</th>\n",
       "      <th>district_name</th>\n",
       "      <th>market_name</th>\n",
       "      <th>variety</th>\n",
       "      <th>group</th>\n",
       "      <th>arrival_tonnes</th>\n",
       "      <th>min_price_rs_quintal</th>\n",
       "      <th>max_price_rs_quintal</th>\n",
       "      <th>modal_price_rs_quintal</th>\n",
       "      <th>reported_date</th>\n",
       "      <th>commodity_name</th>\n",
       "    </tr>\n",
       "  </thead>\n",
       "  <tbody>\n",
       "    <tr>\n",
       "      <th>96</th>\n",
       "      <td>Gujarat</td>\n",
       "      <td>Surat</td>\n",
       "      <td>Surat</td>\n",
       "      <td>Other</td>\n",
       "      <td>Vegetables</td>\n",
       "      <td>1.50</td>\n",
       "      <td>4000</td>\n",
       "      <td>7500</td>\n",
       "      <td>5750</td>\n",
       "      <td>2022-07-13</td>\n",
       "      <td>Arhar Dal(Tur Dal)</td>\n",
       "    </tr>\n",
       "    <tr>\n",
       "      <th>97</th>\n",
       "      <td>Haryana</td>\n",
       "      <td>Sonipat</td>\n",
       "      <td>Ganaur</td>\n",
       "      <td>Yam (Ratalu)</td>\n",
       "      <td>Vegetables</td>\n",
       "      <td>0.45</td>\n",
       "      <td>2500</td>\n",
       "      <td>3000</td>\n",
       "      <td>2800</td>\n",
       "      <td>2022-07-13</td>\n",
       "      <td>Arhar Dal(Tur Dal)</td>\n",
       "    </tr>\n",
       "    <tr>\n",
       "      <th>98</th>\n",
       "      <td>Telangana</td>\n",
       "      <td>Hyderabad</td>\n",
       "      <td>Erragadda(Rythu Bazar)</td>\n",
       "      <td>Other</td>\n",
       "      <td>Vegetables</td>\n",
       "      <td>3.00</td>\n",
       "      <td>2300</td>\n",
       "      <td>2300</td>\n",
       "      <td>2300</td>\n",
       "      <td>2022-07-13</td>\n",
       "      <td>Arhar Dal(Tur Dal)</td>\n",
       "    </tr>\n",
       "    <tr>\n",
       "      <th>99</th>\n",
       "      <td>Telangana</td>\n",
       "      <td>Ranga Reddy</td>\n",
       "      <td>Mehndipatnam(Rythu Bazar)</td>\n",
       "      <td>Other</td>\n",
       "      <td>Vegetables</td>\n",
       "      <td>0.40</td>\n",
       "      <td>2300</td>\n",
       "      <td>2300</td>\n",
       "      <td>2300</td>\n",
       "      <td>2022-07-13</td>\n",
       "      <td>Arhar Dal(Tur Dal)</td>\n",
       "    </tr>\n",
       "    <tr>\n",
       "      <th>152</th>\n",
       "      <td>Gujarat</td>\n",
       "      <td>Surat</td>\n",
       "      <td>Surat</td>\n",
       "      <td>Other</td>\n",
       "      <td>Vegetables</td>\n",
       "      <td>1.50</td>\n",
       "      <td>4000</td>\n",
       "      <td>7500</td>\n",
       "      <td>5750</td>\n",
       "      <td>2022-07-13</td>\n",
       "      <td>Papaya</td>\n",
       "    </tr>\n",
       "    <tr>\n",
       "      <th>...</th>\n",
       "      <td>...</td>\n",
       "      <td>...</td>\n",
       "      <td>...</td>\n",
       "      <td>...</td>\n",
       "      <td>...</td>\n",
       "      <td>...</td>\n",
       "      <td>...</td>\n",
       "      <td>...</td>\n",
       "      <td>...</td>\n",
       "      <td>...</td>\n",
       "      <td>...</td>\n",
       "    </tr>\n",
       "    <tr>\n",
       "      <th>3405</th>\n",
       "      <td>Kerala</td>\n",
       "      <td>Wayanad</td>\n",
       "      <td>Kalpetta</td>\n",
       "      <td>Other</td>\n",
       "      <td>Vegetables</td>\n",
       "      <td>13.00</td>\n",
       "      <td>2400</td>\n",
       "      <td>2500</td>\n",
       "      <td>2500</td>\n",
       "      <td>2022-07-14</td>\n",
       "      <td>Arhar Dal(Tur Dal)</td>\n",
       "    </tr>\n",
       "    <tr>\n",
       "      <th>3406</th>\n",
       "      <td>Kerala</td>\n",
       "      <td>Idukki</td>\n",
       "      <td>Kattappana</td>\n",
       "      <td>Other</td>\n",
       "      <td>Vegetables</td>\n",
       "      <td>4.90</td>\n",
       "      <td>1800</td>\n",
       "      <td>2300</td>\n",
       "      <td>2100</td>\n",
       "      <td>2022-07-14</td>\n",
       "      <td>Arhar Dal(Tur Dal)</td>\n",
       "    </tr>\n",
       "    <tr>\n",
       "      <th>3407</th>\n",
       "      <td>Kerala</td>\n",
       "      <td>Kollam</td>\n",
       "      <td>Kollam</td>\n",
       "      <td>Other</td>\n",
       "      <td>Vegetables</td>\n",
       "      <td>0.30</td>\n",
       "      <td>5000</td>\n",
       "      <td>5500</td>\n",
       "      <td>5300</td>\n",
       "      <td>2022-07-14</td>\n",
       "      <td>Arhar Dal(Tur Dal)</td>\n",
       "    </tr>\n",
       "    <tr>\n",
       "      <th>3408</th>\n",
       "      <td>Telangana</td>\n",
       "      <td>Hyderabad</td>\n",
       "      <td>Erragadda(Rythu Bazar)</td>\n",
       "      <td>Other</td>\n",
       "      <td>Vegetables</td>\n",
       "      <td>3.00</td>\n",
       "      <td>2800</td>\n",
       "      <td>2800</td>\n",
       "      <td>2800</td>\n",
       "      <td>2022-07-14</td>\n",
       "      <td>Arhar Dal(Tur Dal)</td>\n",
       "    </tr>\n",
       "    <tr>\n",
       "      <th>3409</th>\n",
       "      <td>Telangana</td>\n",
       "      <td>Ranga Reddy</td>\n",
       "      <td>Mehndipatnam(Rythu Bazar)</td>\n",
       "      <td>Other</td>\n",
       "      <td>Vegetables</td>\n",
       "      <td>0.30</td>\n",
       "      <td>280</td>\n",
       "      <td>2800</td>\n",
       "      <td>2800</td>\n",
       "      <td>2022-07-14</td>\n",
       "      <td>Arhar Dal(Tur Dal)</td>\n",
       "    </tr>\n",
       "  </tbody>\n",
       "</table>\n",
       "<p>190 rows × 11 columns</p>\n",
       "</div>"
      ],
      "text/plain": [
       "     state_name district_name                market_name       variety  \\\n",
       "96      Gujarat         Surat                      Surat         Other   \n",
       "97      Haryana       Sonipat                     Ganaur  Yam (Ratalu)   \n",
       "98    Telangana     Hyderabad     Erragadda(Rythu Bazar)         Other   \n",
       "99    Telangana   Ranga Reddy  Mehndipatnam(Rythu Bazar)         Other   \n",
       "152     Gujarat         Surat                      Surat         Other   \n",
       "...         ...           ...                        ...           ...   \n",
       "3405     Kerala       Wayanad                   Kalpetta         Other   \n",
       "3406     Kerala        Idukki                 Kattappana         Other   \n",
       "3407     Kerala        Kollam                     Kollam         Other   \n",
       "3408  Telangana     Hyderabad     Erragadda(Rythu Bazar)         Other   \n",
       "3409  Telangana   Ranga Reddy  Mehndipatnam(Rythu Bazar)         Other   \n",
       "\n",
       "           group  arrival_tonnes  min_price_rs_quintal  max_price_rs_quintal  \\\n",
       "96    Vegetables            1.50                  4000                  7500   \n",
       "97    Vegetables            0.45                  2500                  3000   \n",
       "98    Vegetables            3.00                  2300                  2300   \n",
       "99    Vegetables            0.40                  2300                  2300   \n",
       "152   Vegetables            1.50                  4000                  7500   \n",
       "...          ...             ...                   ...                   ...   \n",
       "3405  Vegetables           13.00                  2400                  2500   \n",
       "3406  Vegetables            4.90                  1800                  2300   \n",
       "3407  Vegetables            0.30                  5000                  5500   \n",
       "3408  Vegetables            3.00                  2800                  2800   \n",
       "3409  Vegetables            0.30                   280                  2800   \n",
       "\n",
       "      modal_price_rs_quintal reported_date      commodity_name  \n",
       "96                      5750    2022-07-13  Arhar Dal(Tur Dal)  \n",
       "97                      2800    2022-07-13  Arhar Dal(Tur Dal)  \n",
       "98                      2300    2022-07-13  Arhar Dal(Tur Dal)  \n",
       "99                      2300    2022-07-13  Arhar Dal(Tur Dal)  \n",
       "152                     5750    2022-07-13              Papaya  \n",
       "...                      ...           ...                 ...  \n",
       "3405                    2500    2022-07-14  Arhar Dal(Tur Dal)  \n",
       "3406                    2100    2022-07-14  Arhar Dal(Tur Dal)  \n",
       "3407                    5300    2022-07-14  Arhar Dal(Tur Dal)  \n",
       "3408                    2800    2022-07-14  Arhar Dal(Tur Dal)  \n",
       "3409                    2800    2022-07-14  Arhar Dal(Tur Dal)  \n",
       "\n",
       "[190 rows x 11 columns]"
      ]
     },
     "execution_count": 5,
     "metadata": {},
     "output_type": "execute_result"
    }
   ],
   "source": [
    "df4"
   ]
  },
  {
   "cell_type": "code",
   "execution_count": 2,
   "id": "27e662da",
   "metadata": {},
   "outputs": [],
   "source": [
    "df4=pd.read_csv(\"agridata.csv\")"
   ]
  },
  {
   "cell_type": "code",
   "execution_count": 3,
   "id": "40ffcd76",
   "metadata": {
    "scrolled": true
   },
   "outputs": [
    {
     "data": {
      "text/html": [
       "<div>\n",
       "<style scoped>\n",
       "    .dataframe tbody tr th:only-of-type {\n",
       "        vertical-align: middle;\n",
       "    }\n",
       "\n",
       "    .dataframe tbody tr th {\n",
       "        vertical-align: top;\n",
       "    }\n",
       "\n",
       "    .dataframe thead th {\n",
       "        text-align: right;\n",
       "    }\n",
       "</style>\n",
       "<table border=\"1\" class=\"dataframe\">\n",
       "  <thead>\n",
       "    <tr style=\"text-align: right;\">\n",
       "      <th></th>\n",
       "      <th>state_name</th>\n",
       "      <th>district_name</th>\n",
       "      <th>market_name</th>\n",
       "      <th>variety</th>\n",
       "      <th>group</th>\n",
       "      <th>arrival_tonnes</th>\n",
       "      <th>min_price_rs_quintal</th>\n",
       "      <th>max_price_rs_quintal</th>\n",
       "      <th>modal_price_rs_quintal</th>\n",
       "      <th>reported_date</th>\n",
       "      <th>commodity_name</th>\n",
       "    </tr>\n",
       "  </thead>\n",
       "  <tbody>\n",
       "    <tr>\n",
       "      <th>0</th>\n",
       "      <td>Gujarat</td>\n",
       "      <td>Surat</td>\n",
       "      <td>Surat</td>\n",
       "      <td>Other</td>\n",
       "      <td>Vegetables</td>\n",
       "      <td>1.50</td>\n",
       "      <td>4000</td>\n",
       "      <td>7500</td>\n",
       "      <td>5750</td>\n",
       "      <td>2022-07-13</td>\n",
       "      <td>Ambada Seed</td>\n",
       "    </tr>\n",
       "    <tr>\n",
       "      <th>1</th>\n",
       "      <td>Haryana</td>\n",
       "      <td>Sonipat</td>\n",
       "      <td>Ganaur</td>\n",
       "      <td>Yam (Ratalu)</td>\n",
       "      <td>Vegetables</td>\n",
       "      <td>0.45</td>\n",
       "      <td>2500</td>\n",
       "      <td>3000</td>\n",
       "      <td>2800</td>\n",
       "      <td>2022-07-13</td>\n",
       "      <td>Ambada Seed</td>\n",
       "    </tr>\n",
       "    <tr>\n",
       "      <th>2</th>\n",
       "      <td>Telangana</td>\n",
       "      <td>Hyderabad</td>\n",
       "      <td>Erragadda(Rythu Bazar)</td>\n",
       "      <td>Other</td>\n",
       "      <td>Vegetables</td>\n",
       "      <td>3.00</td>\n",
       "      <td>2300</td>\n",
       "      <td>2300</td>\n",
       "      <td>2300</td>\n",
       "      <td>2022-07-13</td>\n",
       "      <td>Ambada Seed</td>\n",
       "    </tr>\n",
       "    <tr>\n",
       "      <th>3</th>\n",
       "      <td>Telangana</td>\n",
       "      <td>Ranga Reddy</td>\n",
       "      <td>Mehndipatnam(Rythu Bazar)</td>\n",
       "      <td>Other</td>\n",
       "      <td>Vegetables</td>\n",
       "      <td>0.40</td>\n",
       "      <td>2300</td>\n",
       "      <td>2300</td>\n",
       "      <td>2300</td>\n",
       "      <td>2022-07-13</td>\n",
       "      <td>Ambada Seed</td>\n",
       "    </tr>\n",
       "    <tr>\n",
       "      <th>4</th>\n",
       "      <td>Gujarat</td>\n",
       "      <td>Surat</td>\n",
       "      <td>Surat</td>\n",
       "      <td>Other</td>\n",
       "      <td>Vegetables</td>\n",
       "      <td>1.50</td>\n",
       "      <td>4000</td>\n",
       "      <td>7500</td>\n",
       "      <td>5750</td>\n",
       "      <td>2022-07-13</td>\n",
       "      <td>Wool</td>\n",
       "    </tr>\n",
       "  </tbody>\n",
       "</table>\n",
       "</div>"
      ],
      "text/plain": [
       "  state_name district_name                market_name       variety  \\\n",
       "0    Gujarat         Surat                      Surat         Other   \n",
       "1    Haryana       Sonipat                     Ganaur  Yam (Ratalu)   \n",
       "2  Telangana     Hyderabad     Erragadda(Rythu Bazar)         Other   \n",
       "3  Telangana   Ranga Reddy  Mehndipatnam(Rythu Bazar)         Other   \n",
       "4    Gujarat         Surat                      Surat         Other   \n",
       "\n",
       "        group  arrival_tonnes  min_price_rs_quintal  max_price_rs_quintal  \\\n",
       "0  Vegetables            1.50                  4000                  7500   \n",
       "1  Vegetables            0.45                  2500                  3000   \n",
       "2  Vegetables            3.00                  2300                  2300   \n",
       "3  Vegetables            0.40                  2300                  2300   \n",
       "4  Vegetables            1.50                  4000                  7500   \n",
       "\n",
       "   modal_price_rs_quintal reported_date commodity_name  \n",
       "0                    5750    2022-07-13    Ambada Seed  \n",
       "1                    2800    2022-07-13    Ambada Seed  \n",
       "2                    2300    2022-07-13    Ambada Seed  \n",
       "3                    2300    2022-07-13    Ambada Seed  \n",
       "4                    5750    2022-07-13           Wool  "
      ]
     },
     "execution_count": 3,
     "metadata": {},
     "output_type": "execute_result"
    }
   ],
   "source": [
    "df4.head(5)"
   ]
  },
  {
   "cell_type": "code",
   "execution_count": 23,
   "id": "e1bda025",
   "metadata": {
    "scrolled": true
   },
   "outputs": [
    {
     "data": {
      "text/plain": [
       "array(['Ambada Seed', 'Wool', 'Pointed gourd (Parval)', 'Gladiolus Bulb',\n",
       "       'Thogrikai', 'Coconut Oil', 'Ajwan', 'Linseed', 'Pepper ungarbled',\n",
       "       'Green Chilli', 'Soapnut(AntawalaRetha)', 'Duck', 'BOP', 'Sugar',\n",
       "       'Jowar(Sorghum)', 'Resinwood', 'Drumstick', 'Ground Nut Oil',\n",
       "       'He Buffalo', 'Chow Chow', 'Egypian Clover(Barseem)',\n",
       "       'Gram Raw(Chholia)', 'Raya', 'Bottle gourd', 'Arhar Dal(Tur Dal)',\n",
       "       'Jaffri', 'Mango (Raw-Ripe)', 'Soyabean',\n",
       "       'Bengal Gram Dal (Chana Dal)', 'Onion', 'Potato',\n",
       "       'Green Gram Dal (Moong Dal)', 'Borehannu', 'Almond(Badam)',\n",
       "       'Peas cod', 'Peas(Dry)', 'Peach', 'Sompu', 'Papaya',\n",
       "       'Green Fodder', 'Sheep', 'Round gourd', 'Suvarna Gadde',\n",
       "       'Chrysanthemum', 'Groundnut (Split)', 'Lotus', 'Gramflour',\n",
       "       'Tamarind Fruit', 'Rice', 'Javi', 'Daila(Chandni)', 'Nelli Kai',\n",
       "       'Cucumbar(Kheera)', 'Isabgul (Psyllium)', 'Jamamkhan', 'Beetroot',\n",
       "       'Green Avare (W)', 'Cloves', 'Polherb', 'Tamarind Seed',\n",
       "       'Ragi (Finger Millet)', 'Beaten Rice', 'Dal (Avare)', 'Taramira',\n",
       "       'Dry Fodder', 'Yam', 'Sunflower Seed',\n",
       "       'Arhar (TurRed Gram)(Whole)', 'Carrot', 'Hippe Seed', 'Orange',\n",
       "       'Sunflower', 'Broomstick(Flower Broom)', 'Bunch Beans', 'Cocoa',\n",
       "       'Anthorium', 'Cashewnuts', 'Camel Hair', 'Lemon',\n",
       "       'Bajra(Pearl MilletCumbu)', 'Snake gourd', 'Gur(Jaggery)',\n",
       "       'Mahua Seed(Hippe seed)', 'Chili Red', 'Kakada', 'Cock',\n",
       "       'Hybrid Cumbu', 'Ground Nut Seed', 'Sweet Potato', 'SameSavi',\n",
       "       'Banana', 'Orchid', 'Litchi', 'Calf', 'Kulthi(Horse Gram)',\n",
       "       'Balekai', 'Mace', 'Groundnut', 'Black Gram (Urd Beans)(Whole)',\n",
       "       'Black Gram Dal (Urd Dal)', 'Castor Seed', 'Black pepper', 'Lilly',\n",
       "       'Wood', 'Torchwood', 'Mashrooms', 'Thinai (Italian Millet)',\n",
       "       'Indian Beans (Seam)', 'Pundi Seed', 'Guar', 'Duster Beans',\n",
       "       'Skin And Hide', 'Sugarcane', 'Red Gram', 'Peas Wet', 'Tea',\n",
       "       'Chennangi (Whole)', 'Lime', 'Rose(Tata)', 'White Peas',\n",
       "       'She Buffalo', 'Jute', 'Bitter gourd', 'Chikoos(Sapota)',\n",
       "       'Coconut', 'Millets', 'Custard Apple (Sharifa)', 'Masur Dal',\n",
       "       'Cowpea(Veg)', 'Barley (Jau)', 'Rose(Loose)', 'Jaggery', 'Jasmine',\n",
       "       'Little gourd (Kundru)', 'Paddy(Dhan)(Common)', 'Bull',\n",
       "       'Methi Seeds', 'Bamboo', 'Raibel', 'Kankambra',\n",
       "       'Ridge gourd(Tori)', 'Sunhemp', 'Fig(AnjuraAnjeer)',\n",
       "       'Sesamum(Sesame,Gingelly,Til)', 'Haralekai', 'Carnation', 'Bran',\n",
       "       'Gurellu', 'Honge seed', 'Ghee', 'Cotton', 'Broken Rice',\n",
       "       'Rat Tail Radish (Mogari)', 'Groundnut pods (raw)', 'Turnip',\n",
       "       'Indian Colza(Sarson)', 'Ber(ZizyphusBorehannu)', 'Mataki',\n",
       "       'Chilly Capsicum', 'Onion Green', 'Myrobolan(Harad)',\n",
       "       'Surat Beans (Papadi)', 'Dry Chillies', 'Sweet Pumpkin',\n",
       "       'Guar Seed(Cluster Beans Seed)', 'Plum', 'Cotton Seed',\n",
       "       'French Beans (Frasbean)', 'Pigs', 'Methi(Leaves)',\n",
       "       'Tube Rose(Loose)', 'Toria', 'Cashew Kernnel', 'Cluster beans',\n",
       "       'Long Melon(Kakri)', 'Copra', 'Kinnow', 'Cauliflower',\n",
       "       'Alasande Gram', 'Maize', 'Amaranthus', 'Seetafal', 'Tobacco',\n",
       "       'Castor Oil', 'Gingelly Oil', 'Tube Rose(Double)', 'White Pumpkin',\n",
       "       'Cowpea (LobiaKaramani)', 'Butter', 'Tapioca', 'Mustard',\n",
       "       'Cummin Seed(Jeera)', 'Chapparad Avare', 'Wheat', 'Thondekai',\n",
       "       'Kacholam', 'Goat', 'Coca', 'Marigold(Calcutta)', 'Flower Broom',\n",
       "       'Seegu', 'Leafy Vegetable', 'Fish', 'Tinda', 'Ashgourd', 'Egg',\n",
       "       'Mahua', 'Delha', 'Pear(Marasebu)', 'She Goat',\n",
       "       'Cinamon(Dalchini)', 'Lint', 'Jarbara', 'Dhaincha',\n",
       "       'Corriander seed', 'Marasebu', 'Garlic', 'Other Pulses', 'Ram',\n",
       "       'Squash(Chappal Kadoo)', 'Bengal Gram(Gram)(Whole)', 'Pineapple',\n",
       "       'Nutmeg', 'Cane', 'Mango', 'Pumpkin', 'Green Gram (Moong)(Whole)',\n",
       "       'Ginger(Dry)', 'Cow', 'Gladiolus Cut Flower', 'Pomegranate',\n",
       "       'Grapes', 'Sarasum', 'Siddota', 'Nargasi',\n",
       "       'Arecanut(BetelnutSupari)', 'Yam (Ratalu)', 'Suva (Dill Seed)',\n",
       "       'Paddy(Dhan)(Basmati)', 'Green Peas', 'Bullar', 'Seemebadnekai',\n",
       "       'Lukad', 'Honey', 'Papaya (Raw)', 'Pundi', 'Betal Leaves', 'Apple',\n",
       "       'Soanf', 'Mahedi', 'Turmeric (raw)', 'Lotus Sticks', 'Ox', 'Hen',\n",
       "       'Field Pea', 'Rubber', 'Karbuja(Musk Melon)', 'T.V. Cumbu',\n",
       "       'Chrysanthemum(Loose)', 'Elephant Yam (Suran)', 'Coffee',\n",
       "       'Bay leaf (Tejpatta)', 'Tube Flower', 'Cardamoms', 'Cabbage',\n",
       "       'Karamani', 'Apricot(JardaluKhumani)', 'Binoula', 'Dry Grapes',\n",
       "       'Cherry', 'Water Melon', 'Kodo Millet(Varagu)', 'Antawala',\n",
       "       'Kharif Mash', 'Dalda', 'Chennangi Dal', 'Niger Seed (Ramtil)',\n",
       "       'Banana - Green', 'Avare Dal', 'Rajgir', 'Jute Seed', 'Kuchur',\n",
       "       'Soji', 'Lak(Teora)', 'Saffron', 'Tender Coconut', 'Firewood',\n",
       "       'Wheat Atta', 'Kartali (Kantola)', 'Jamun(Narale Hannu)',\n",
       "       'Amla(Nelli Kai)', 'Mustard Oil', 'Coriander(Leaves)', 'Mash',\n",
       "       'Persimon(Japani Fal)', 'Ginger(Green)', 'Foxtail Millet(Navane)',\n",
       "       'Patti Calcutta', 'Coconut Seed', 'Maragensu', 'Amphophalus',\n",
       "       'Colacasia', 'Jack Fruit', 'Astera', 'Moath Dal', 'Neem Seed',\n",
       "       'Ladies Finger', 'Galgal(Lemon)', 'Tomato', 'Beans',\n",
       "       'Kabuli Chana(Chickpeas-White)', 'Pepper garbled', 'Chakotha',\n",
       "       'Riccbcan', 'Mousambi(Sweet Lime)', 'Betelnuts',\n",
       "       'Tube Rose(Single)', 'Safflower', 'Maida Atta', 'Spinach', 'Khoya',\n",
       "       'Sabu Dana', 'Pegeon Pea (Arhar Fali)', 'Marigold(loose)',\n",
       "       'Rose(Local)', 'Sponge gourd', 'Goat Hair', 'Walnut',\n",
       "       'Mint(Pudina)', 'Turmeric', 'Alsandikai', 'Suram', 'Raddish',\n",
       "       'Sajje', 'Season Leaves', 'Lentil (Masur)(Whole)', 'Capsicum',\n",
       "       'Brinjal', 'Big Gram', 'Guava', 'Marget', 'Bhindi(Ladies Finger)',\n",
       "       'Nearle Hannu', 'Knool Khol'], dtype=object)"
      ]
     },
     "execution_count": 23,
     "metadata": {},
     "output_type": "execute_result"
    }
   ],
   "source": [
    "df4['commodity_name'].unique()"
   ]
  },
  {
   "cell_type": "code",
   "execution_count": 32,
   "id": "d7bf974b",
   "metadata": {},
   "outputs": [],
   "source": [
    "df4 = df4.loc[df4['commodity_name'].isin(['Mango','Jute Seed'])]"
   ]
  },
  {
   "cell_type": "code",
   "execution_count": 34,
   "id": "a4ad3b76",
   "metadata": {},
   "outputs": [
    {
     "name": "stdout",
     "output_type": "stream",
     "text": [
      "     state_name district_name                market_name       variety  \\\n",
      "896     Gujarat         Surat                      Surat         Other   \n",
      "897     Haryana       Sonipat                     Ganaur  Yam (Ratalu)   \n",
      "898   Telangana     Hyderabad     Erragadda(Rythu Bazar)         Other   \n",
      "899   Telangana   Ranga Reddy  Mehndipatnam(Rythu Bazar)         Other   \n",
      "1120    Gujarat         Surat                      Surat         Other   \n",
      "\n",
      "           group  arrival_tonnes  min_price_rs_quintal  max_price_rs_quintal  \\\n",
      "896   Vegetables            1.50                  4000                  7500   \n",
      "897   Vegetables            0.45                  2500                  3000   \n",
      "898   Vegetables            3.00                  2300                  2300   \n",
      "899   Vegetables            0.40                  2300                  2300   \n",
      "1120  Vegetables            1.50                  4000                  7500   \n",
      "\n",
      "      modal_price_rs_quintal reported_date commodity_name  \n",
      "896                     5750    2022-07-13          Mango  \n",
      "897                     2800    2022-07-13          Mango  \n",
      "898                     2300    2022-07-13          Mango  \n",
      "899                     2300    2022-07-13          Mango  \n",
      "1120                    5750    2022-07-13      Jute Seed  \n"
     ]
    }
   ],
   "source": [
    "print(df4.head())"
   ]
  },
  {
   "cell_type": "code",
   "execution_count": 31,
   "id": "7d005cf3",
   "metadata": {},
   "outputs": [
    {
     "data": {
      "text/html": [
       "<div>\n",
       "<style scoped>\n",
       "    .dataframe tbody tr th:only-of-type {\n",
       "        vertical-align: middle;\n",
       "    }\n",
       "\n",
       "    .dataframe tbody tr th {\n",
       "        vertical-align: top;\n",
       "    }\n",
       "\n",
       "    .dataframe thead th {\n",
       "        text-align: right;\n",
       "    }\n",
       "</style>\n",
       "<table border=\"1\" class=\"dataframe\">\n",
       "  <thead>\n",
       "    <tr style=\"text-align: right;\">\n",
       "      <th></th>\n",
       "      <th>state_name</th>\n",
       "      <th>district_name</th>\n",
       "      <th>market_name</th>\n",
       "      <th>variety</th>\n",
       "      <th>group</th>\n",
       "      <th>arrival_tonnes</th>\n",
       "      <th>min_price_rs_quintal</th>\n",
       "      <th>max_price_rs_quintal</th>\n",
       "      <th>modal_price_rs_quintal</th>\n",
       "      <th>reported_date</th>\n",
       "      <th>commodity_name</th>\n",
       "    </tr>\n",
       "  </thead>\n",
       "  <tbody>\n",
       "    <tr>\n",
       "      <th>896</th>\n",
       "      <td>Gujarat</td>\n",
       "      <td>Surat</td>\n",
       "      <td>Surat</td>\n",
       "      <td>Other</td>\n",
       "      <td>Vegetables</td>\n",
       "      <td>1.50</td>\n",
       "      <td>4000</td>\n",
       "      <td>7500</td>\n",
       "      <td>5750</td>\n",
       "      <td>2022-07-13</td>\n",
       "      <td>Mango</td>\n",
       "    </tr>\n",
       "    <tr>\n",
       "      <th>897</th>\n",
       "      <td>Haryana</td>\n",
       "      <td>Sonipat</td>\n",
       "      <td>Ganaur</td>\n",
       "      <td>Yam (Ratalu)</td>\n",
       "      <td>Vegetables</td>\n",
       "      <td>0.45</td>\n",
       "      <td>2500</td>\n",
       "      <td>3000</td>\n",
       "      <td>2800</td>\n",
       "      <td>2022-07-13</td>\n",
       "      <td>Mango</td>\n",
       "    </tr>\n",
       "    <tr>\n",
       "      <th>898</th>\n",
       "      <td>Telangana</td>\n",
       "      <td>Hyderabad</td>\n",
       "      <td>Erragadda(Rythu Bazar)</td>\n",
       "      <td>Other</td>\n",
       "      <td>Vegetables</td>\n",
       "      <td>3.00</td>\n",
       "      <td>2300</td>\n",
       "      <td>2300</td>\n",
       "      <td>2300</td>\n",
       "      <td>2022-07-13</td>\n",
       "      <td>Mango</td>\n",
       "    </tr>\n",
       "    <tr>\n",
       "      <th>899</th>\n",
       "      <td>Telangana</td>\n",
       "      <td>Ranga Reddy</td>\n",
       "      <td>Mehndipatnam(Rythu Bazar)</td>\n",
       "      <td>Other</td>\n",
       "      <td>Vegetables</td>\n",
       "      <td>0.40</td>\n",
       "      <td>2300</td>\n",
       "      <td>2300</td>\n",
       "      <td>2300</td>\n",
       "      <td>2022-07-13</td>\n",
       "      <td>Mango</td>\n",
       "    </tr>\n",
       "    <tr>\n",
       "      <th>1120</th>\n",
       "      <td>Gujarat</td>\n",
       "      <td>Surat</td>\n",
       "      <td>Surat</td>\n",
       "      <td>Other</td>\n",
       "      <td>Vegetables</td>\n",
       "      <td>1.50</td>\n",
       "      <td>4000</td>\n",
       "      <td>7500</td>\n",
       "      <td>5750</td>\n",
       "      <td>2022-07-13</td>\n",
       "      <td>Jute Seed</td>\n",
       "    </tr>\n",
       "  </tbody>\n",
       "</table>\n",
       "</div>"
      ],
      "text/plain": [
       "     state_name district_name                market_name       variety  \\\n",
       "896     Gujarat         Surat                      Surat         Other   \n",
       "897     Haryana       Sonipat                     Ganaur  Yam (Ratalu)   \n",
       "898   Telangana     Hyderabad     Erragadda(Rythu Bazar)         Other   \n",
       "899   Telangana   Ranga Reddy  Mehndipatnam(Rythu Bazar)         Other   \n",
       "1120    Gujarat         Surat                      Surat         Other   \n",
       "\n",
       "           group  arrival_tonnes  min_price_rs_quintal  max_price_rs_quintal  \\\n",
       "896   Vegetables            1.50                  4000                  7500   \n",
       "897   Vegetables            0.45                  2500                  3000   \n",
       "898   Vegetables            3.00                  2300                  2300   \n",
       "899   Vegetables            0.40                  2300                  2300   \n",
       "1120  Vegetables            1.50                  4000                  7500   \n",
       "\n",
       "      modal_price_rs_quintal reported_date commodity_name  \n",
       "896                     5750    2022-07-13          Mango  \n",
       "897                     2800    2022-07-13          Mango  \n",
       "898                     2300    2022-07-13          Mango  \n",
       "899                     2300    2022-07-13          Mango  \n",
       "1120                    5750    2022-07-13      Jute Seed  "
      ]
     },
     "execution_count": 31,
     "metadata": {},
     "output_type": "execute_result"
    }
   ],
   "source": [
    "df4.head()"
   ]
  },
  {
   "cell_type": "code",
   "execution_count": 30,
   "id": "ce41c475",
   "metadata": {},
   "outputs": [
    {
     "data": {
      "text/html": [
       "<div>\n",
       "<style scoped>\n",
       "    .dataframe tbody tr th:only-of-type {\n",
       "        vertical-align: middle;\n",
       "    }\n",
       "\n",
       "    .dataframe tbody tr th {\n",
       "        vertical-align: top;\n",
       "    }\n",
       "\n",
       "    .dataframe thead th {\n",
       "        text-align: right;\n",
       "    }\n",
       "</style>\n",
       "<table border=\"1\" class=\"dataframe\">\n",
       "  <thead>\n",
       "    <tr style=\"text-align: right;\">\n",
       "      <th></th>\n",
       "      <th>state_name</th>\n",
       "      <th>district_name</th>\n",
       "      <th>market_name</th>\n",
       "      <th>variety</th>\n",
       "      <th>group</th>\n",
       "      <th>arrival_tonnes</th>\n",
       "      <th>min_price_rs_quintal</th>\n",
       "      <th>max_price_rs_quintal</th>\n",
       "      <th>modal_price_rs_quintal</th>\n",
       "      <th>reported_date</th>\n",
       "      <th>commodity_name</th>\n",
       "    </tr>\n",
       "  </thead>\n",
       "  <tbody>\n",
       "    <tr>\n",
       "      <th>896</th>\n",
       "      <td>Gujarat</td>\n",
       "      <td>Surat</td>\n",
       "      <td>Surat</td>\n",
       "      <td>Other</td>\n",
       "      <td>Vegetables</td>\n",
       "      <td>1.50</td>\n",
       "      <td>4000</td>\n",
       "      <td>7500</td>\n",
       "      <td>5750</td>\n",
       "      <td>2022-07-13</td>\n",
       "      <td>Mango</td>\n",
       "    </tr>\n",
       "    <tr>\n",
       "      <th>897</th>\n",
       "      <td>Haryana</td>\n",
       "      <td>Sonipat</td>\n",
       "      <td>Ganaur</td>\n",
       "      <td>Yam (Ratalu)</td>\n",
       "      <td>Vegetables</td>\n",
       "      <td>0.45</td>\n",
       "      <td>2500</td>\n",
       "      <td>3000</td>\n",
       "      <td>2800</td>\n",
       "      <td>2022-07-13</td>\n",
       "      <td>Mango</td>\n",
       "    </tr>\n",
       "    <tr>\n",
       "      <th>898</th>\n",
       "      <td>Telangana</td>\n",
       "      <td>Hyderabad</td>\n",
       "      <td>Erragadda(Rythu Bazar)</td>\n",
       "      <td>Other</td>\n",
       "      <td>Vegetables</td>\n",
       "      <td>3.00</td>\n",
       "      <td>2300</td>\n",
       "      <td>2300</td>\n",
       "      <td>2300</td>\n",
       "      <td>2022-07-13</td>\n",
       "      <td>Mango</td>\n",
       "    </tr>\n",
       "    <tr>\n",
       "      <th>899</th>\n",
       "      <td>Telangana</td>\n",
       "      <td>Ranga Reddy</td>\n",
       "      <td>Mehndipatnam(Rythu Bazar)</td>\n",
       "      <td>Other</td>\n",
       "      <td>Vegetables</td>\n",
       "      <td>0.40</td>\n",
       "      <td>2300</td>\n",
       "      <td>2300</td>\n",
       "      <td>2300</td>\n",
       "      <td>2022-07-13</td>\n",
       "      <td>Mango</td>\n",
       "    </tr>\n",
       "    <tr>\n",
       "      <th>1120</th>\n",
       "      <td>Gujarat</td>\n",
       "      <td>Surat</td>\n",
       "      <td>Surat</td>\n",
       "      <td>Other</td>\n",
       "      <td>Vegetables</td>\n",
       "      <td>1.50</td>\n",
       "      <td>4000</td>\n",
       "      <td>7500</td>\n",
       "      <td>5750</td>\n",
       "      <td>2022-07-13</td>\n",
       "      <td>Jute Seed</td>\n",
       "    </tr>\n",
       "  </tbody>\n",
       "</table>\n",
       "</div>"
      ],
      "text/plain": [
       "     state_name district_name                market_name       variety  \\\n",
       "896     Gujarat         Surat                      Surat         Other   \n",
       "897     Haryana       Sonipat                     Ganaur  Yam (Ratalu)   \n",
       "898   Telangana     Hyderabad     Erragadda(Rythu Bazar)         Other   \n",
       "899   Telangana   Ranga Reddy  Mehndipatnam(Rythu Bazar)         Other   \n",
       "1120    Gujarat         Surat                      Surat         Other   \n",
       "\n",
       "           group  arrival_tonnes  min_price_rs_quintal  max_price_rs_quintal  \\\n",
       "896   Vegetables            1.50                  4000                  7500   \n",
       "897   Vegetables            0.45                  2500                  3000   \n",
       "898   Vegetables            3.00                  2300                  2300   \n",
       "899   Vegetables            0.40                  2300                  2300   \n",
       "1120  Vegetables            1.50                  4000                  7500   \n",
       "\n",
       "      modal_price_rs_quintal reported_date commodity_name  \n",
       "896                     5750    2022-07-13          Mango  \n",
       "897                     2800    2022-07-13          Mango  \n",
       "898                     2300    2022-07-13          Mango  \n",
       "899                     2300    2022-07-13          Mango  \n",
       "1120                    5750    2022-07-13      Jute Seed  "
      ]
     },
     "execution_count": 30,
     "metadata": {},
     "output_type": "execute_result"
    }
   ],
   "source": [
    "df4.head()"
   ]
  }
 ],
 "metadata": {
  "kernelspec": {
   "display_name": "Python 3 (ipykernel)",
   "language": "python",
   "name": "python3"
  },
  "language_info": {
   "codemirror_mode": {
    "name": "ipython",
    "version": 3
   },
   "file_extension": ".py",
   "mimetype": "text/x-python",
   "name": "python",
   "nbconvert_exporter": "python",
   "pygments_lexer": "ipython3",
   "version": "3.7.6"
  }
 },
 "nbformat": 4,
 "nbformat_minor": 5
}
